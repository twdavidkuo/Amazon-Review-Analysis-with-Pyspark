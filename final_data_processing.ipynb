{
  "cells": [
    {
      "cell_type": "code",
      "execution_count": null,
      "id": "807c2935-4621-407c-961c-90a5bd9e1ee4",
      "metadata": {
        "id": "807c2935-4621-407c-961c-90a5bd9e1ee4"
      },
      "outputs": [],
      "source": [
        "from pyspark.sql import SparkSession\n",
        "from pyspark.sql.functions import to_date, from_unixtime\n",
        "from pyspark.sql.types import DateType\n",
        "from pyspark.sql.functions import *\n",
        "import matplotlib.pyplot as plt\n",
        "import seaborn as sns\n",
        "from pyspark.ml.feature import *\n",
        "from operator import add\n",
        "from pyspark.ml.feature import HashingTF, IDF\n",
        "from pyspark.ml import Pipeline\n",
        "from sparknlp.annotator import Tokenizer\n",
        "from sparknlp.base import DocumentAssembler, Finisher\n",
        "from pyspark.ml.clustering import KMeans\n",
        "import warnings\n",
        "warnings.filterwarnings('ignore')\n",
        "warnings.filterwarnings(\"ignore\", category=DeprecationWarning, module=\"pyspark\")\n",
        "import pandas as pd\n",
        "from review_preprocessing import *\n",
        "from pyspark.ml.classification import LogisticRegression\n",
        "from pyspark.ml.evaluation import MulticlassClassificationEvaluator\n",
        "from IPython.core.display import HTML\n",
        "display(HTML(\"<style>pre { white-space: pre !important; }</style>\"))"
      ]
    },
    {
      "cell_type": "code",
      "execution_count": null,
      "id": "21c96dd1-ebc4-4797-9bed-180d007a0b21",
      "metadata": {
        "id": "21c96dd1-ebc4-4797-9bed-180d007a0b21"
      },
      "outputs": [],
      "source": [
        "import subprocess\n",
        "\n",
        "# Define the Google Cloud Storage bucket path\n",
        "gcs_bucket_path = \"gs://msca-bdp-student-gcs/Group1_Final_Project\"\n",
        "\n",
        "# Use subprocess to call gsutil ls command and capture the output\n",
        "command = f\"gsutil ls {gcs_bucket_path}/*.tsv\"\n",
        "process = subprocess.Popen(command, shell=True, stdout=subprocess.PIPE, stderr=subprocess.PIPE)\n",
        "output, error = process.communicate()\n",
        "\n",
        "# Check for errors\n",
        "if process.returncode != 0:\n",
        "    print(f\"Error: {error.decode()}\")\n",
        "else:\n",
        "    # Extract and print the TSV file paths\n",
        "    tsv_file_paths = output.decode().split('\\n')\n",
        "    tsv_file_paths.remove('gs://msca-bdp-student-gcs/Group1_Final_Project/amazon_reviews_multilingual_US_v1_00.tsv')\n",
        "    for tsv_file_path in tsv_file_paths:\n",
        "        print(tsv_file_path)\n"
      ]
    },
    {
      "cell_type": "code",
      "execution_count": null,
      "id": "2e364b56-6da4-4adf-8d8c-ebcf1d1e66ee",
      "metadata": {
        "id": "2e364b56-6da4-4adf-8d8c-ebcf1d1e66ee"
      },
      "outputs": [],
      "source": [
        "df = vectorize_df(df, features = 40)\n",
        "df = feature_assemble(df)\n",
        "df_vectorized = df.select('review_id', 'features', 'star_rating')\n",
        "df_vectorized.write.parquet('gs://msca-bdp-student-gcs/Group1_Final_Project/vectorized_data.parquet')\n",
        "df = df.drop(*['review_id', 'features', 'star_rating'])\n",
        "df.write.parquet('gs://msca-bdp-student-gcs/Group1_Final_Project/non_vectorized_data.parquet')"
      ]
    },
    {
      "cell_type": "code",
      "execution_count": null,
      "id": "b70d405a-2b07-43c5-b1bc-5f585ecfd02d",
      "metadata": {
        "id": "b70d405a-2b07-43c5-b1bc-5f585ecfd02d"
      },
      "outputs": [],
      "source": [
        "df = read_trim_tsv(tsv_file_paths[0]);\n",
        "for i in range(1, len(tsv_file_paths)):\n",
        "    temp_df = read_trim_tsv(tsv_file_paths[i]);\n",
        "    print(temp_df.show())\n",
        "    print(temp_df.count())\n",
        "    df = df.union(temp_df);\n",
        "    print('totol count:' + str(df.count()));"
      ]
    },
    {
      "cell_type": "code",
      "execution_count": null,
      "id": "3d3b6173-89c9-4f9e-b5fb-b57dc3bb6337",
      "metadata": {
        "id": "3d3b6173-89c9-4f9e-b5fb-b57dc3bb6337"
      },
      "outputs": [],
      "source": [
        "df = vectorize_df(df, features = 40)\n",
        "df = feature_assemble(df)\n",
        "df_vectorized = df.select('review_id', 'features', 'star_rating')\n",
        "df_vectorized.write.parquet('gs://msca-bdp-student-gcs/Group1_Final_Project/vectorized_data.parquet')\n",
        "df = df.drop(*['review_id', 'features', 'star_rating'])\n",
        "df.write.parquet('gs://msca-bdp-student-gcs/Group1_Final_Project/non_vectorized_data.parquet')"
      ]
    }
  ],
  "metadata": {
    "kernelspec": {
      "display_name": "PySpark",
      "language": "python",
      "name": "pyspark"
    },
    "language_info": {
      "codemirror_mode": {
        "name": "ipython",
        "version": 3
      },
      "file_extension": ".py",
      "mimetype": "text/x-python",
      "name": "python",
      "nbconvert_exporter": "python",
      "pygments_lexer": "ipython3",
      "version": "3.8.15"
    },
    "colab": {
      "provenance": []
    }
  },
  "nbformat": 4,
  "nbformat_minor": 5
}
